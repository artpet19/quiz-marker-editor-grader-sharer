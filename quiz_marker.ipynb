{
 "cells": [
  {
   "cell_type": "code",
   "execution_count": 1,
   "id": "2cf01d89",
   "metadata": {},
   "outputs": [],
   "source": [
    "#A dictionary defining questions and answers for a quick quiz\n",
    "#This code is a simple quiz application that asks the user multiple-choice questions\n",
    "\n",
    "quick_questions = {\n",
    "    \"What is the correct file extension for python files?\": {\n",
    "        \"options\": [\"A. .pt\", \"B. .py\", \"C. .pyt\", \"D. .pyn\"], \"answer\": \"B\"\n",
    "    },\n",
    "    \"What is the correct syntax to output 'Hello World' in Python?\": {\n",
    "        \"options\": [\"A. print('Hello World')\", \"B. echo('Hello World')\", \"C. print('Hello World')\", \"D. echo('Hello World')\"], \"answer\": \"A\"\n",
    "    },\n",
    "    \"How do you create a variable with the numeric value 5?\": {\n",
    "        \"options\": [\"A. x = 5\", \"B. x = int(5)\", \"C. x = '5'\", \"D. x = 5.0\"], \"answer\": \"A\"\n",
    "    },\n",
    "    \"What is the correct way to create a function in Python?\": {\n",
    "        \"options\": [\"A. def myFunction():\", \"B. function myFunction():\", \"C. create myFunction():\", \"D. func myFunction():\"], \"answer\": \"A\"\n",
    "    },\n",
    "    \"How do you call a function named 'myFunction'?\": {\n",
    "        \"options\": [\"A. myFunction()\", \"B. call myFunction()\", \"C. call myFunction\", \"D. myFunction\"], \"answer\": \"A\"\n",
    "    },\n",
    "    \"How do you write an 'if' statement in Python?\": {\n",
    "        \"options\": [\"A. if x > y:\", \"B. if x > y then:\", \"C. if (x > y)\", \"D. if x > y then\"], \"answer\": \"A\"\n",
    "    },\n",
    "    \"How do you create a list in Python?\": {\n",
    "        \"options\": [\"A. myList = []\", \"B. myList = ()\", \"C. myList = {}\", \"D. myList = list()\"], \"answer\": \"A\"\n",
    "    },\n",
    "    \"How do you create a dictionary in Python?\": {\n",
    "        \"options\": [\"A. myDict = {}\", \"B. myDict = []\", \"C. myDict = ()\", \"D. myDict = dict()\"], \"answer\": \"A\"\n",
    "    },\n",
    "    \"How do you create a tuple in Python?\": {\n",
    "        \"options\": [\"A. myTuple = ()\", \"B. myTuple = []\", \"C. myTuple = {}\", \"D. myTuple = dict()\"], \"answer\": \"A\"\n",
    "    },\n",
    "    \"How do you create a set in Python?\": {\n",
    "        \"options\": [\"A. mySet = set()\", \"B. mySet = []\", \"C. mySet = {}\", \"D. mySet = ()\"], \"answer\": \"A\"\n",
    "    },\n",
    "    \"How do you create a while loop in Python?\": {\n",
    "        \"options\": [\"A. while x < 5:\", \"B. while (x < 5)\", \"C. while x < 5 then:\", \"D. while (x < 5) then\"], \"answer\": \"A\"\n",
    "    },\n",
    "    \"How do you create a for loop in Python?\": {\n",
    "        \"options\": [\"A. for x in range(5):\", \"B. for (x in range(5)):\", \"C. for x in range(5) then:\", \"D. for (x in range(5)) then\"], \"answer\": \"A\"\n",
    "    },\n",
    "    \"How do you handle exceptions in Python?\": {\n",
    "        \"options\": [\"A. try:\", \"B. catch:\", \"C. except:\", \"D. handle:\"], \"answer\": \"A\"\n",
    "    },\n",
    "    \"How do you import a module in Python?\": {\n",
    "        \"options\": [\"A. import module\", \"B. include module\", \"C. require module\", \"D. use module\"], \"answer\": \"A\"\n",
    "    },\n",
    "    \"How do you read a file in Python?\": {\n",
    "        \"options\": [\"A. with open('file.txt', 'r') as f:\", \"B. open('file.txt', 'r')\", \"C. read('file.txt', 'r')\", \"D. file('file.txt', 'r')\"], \"answer\": \"A\"\n",
    "    },\n",
    "    \"How do you write to a file in Python?\": {\n",
    "        \"options\": [\"A. with open('file.txt', 'w') as f:\", \"B. open('file.txt', 'w')\", \"C. write('file.txt', 'w')\", \"D. file('file.txt', 'w')\"], \"answer\": \"A\"\n",
    "    },\n",
    "    \"How do you close a file in Python?\": {\n",
    "        \"options\": [\"A. f.close()\", \"B. close(f)\", \"C. f.end()\", \"D. end(f)\"], \"answer\": \"A\"\n",
    "    },\n",
    "    \"How do you delete a file in Python?\": {\n",
    "        \"options\": [\"A. import os; os.remove('file.txt')\", \"B. delete('file.txt')\", \"C. remove('file.txt')\", \"D. os.delete('file.txt')\"], \"answer\": \"A\"\n",
    "    },\n",
    "    \"How do you check if a file exists in Python?\": {\n",
    "        \"options\": [\"A. import os; os.path.exists('file.txt')\", \"B. exists('file.txt')\", \"C. os.exists('file.txt')\", \"D. file.exists('file.txt')\"], \"answer\": \"A\"\n",
    "    },\n",
    "    \"How do you get the current working directory in Python?\": {\n",
    "        \"options\": [\"A. import os; os.getcwd()\", \"B. getcwd()\", \"C. os.current()\", \"D. current()\"], \"answer\": \"A\"\n",
    "    }\n",
    "}"
   ]
  },
  {
   "cell_type": "code",
   "execution_count": 2,
   "id": "4b646af3",
   "metadata": {},
   "outputs": [],
   "source": [
    "# creat a function to allows admin to add questions to the dictionary\n",
    "def add_custom_questions(): # function to add custom questions\n",
    "    print(\"\\n Add Your Own Questions (type 'done' to stop)\\n\")\n",
    "    while True: # loop to keep asking for questions\n",
    "        question = input(\"Enter your question (or type 'done' to finish): \") # prompt user for question\n",
    "        if question.lower() == 'done': # check if user wants to stop adding questions\n",
    "            break # exit loop if user types 'done'\n",
    "        options = [] # create an empty list to store options\n",
    "        for i in range(4): # loop to get 4 options from user\n",
    "            option = input(f\"Enter option {chr(65 + i)}: \") # prompt user for option\n",
    "            options.append(f\"{chr(65 + i)}. {option}\") # add option to list\n",
    "        answer = input(\"Enter the correct option (A, B, C, or D): \").upper() # prompt user for correct answer\n",
    "        if answer not in ['A', 'B', 'C', 'D']: # check if answer is valid\n",
    "            print(\"Invalid answer. Please enter A, B, C, or D.\")\n",
    "            continue # skip to next iteration if answer is invalid\n",
    "        quick_questions[question] = {\n",
    "            \"options\": options,\n",
    "            \"answer\": answer\n",
    "        } # add question to dictionary\n",
    "        print(f\"Question '{question}' added successfully!\")"
   ]
  },
  {
   "cell_type": "code",
   "execution_count": 3,
   "id": "5b26f17d",
   "metadata": {},
   "outputs": [],
   "source": [
    "# Function to remove questions from the dictionary\n",
    "def remove_custom_questions(): # function to remove custom questions\n",
    "    print(\"\\n Remove Your Own Questions (type 'done' to stop)\\n\")\n",
    "    while True: # loop to keep asking for questions\n",
    "        question = input(\"Enter the question you want to remove (or type 'done' to finish): \") # prompt user for question\n",
    "        if question.lower() == 'done': # check if user wants to stop removing questions\n",
    "            break # exit loop if user types 'done'\n",
    "        if question in quick_questions: # check if question exists in dictionary\n",
    "            del quick_questions[question] # remove question from dictionary\n",
    "            print(f\"Question '{question}' removed successfully!\")\n",
    "        else: # if question does not exist\n",
    "            print(f\"Question '{question}' not found.\") # notify user that question was not found"
   ]
  },
  {
   "cell_type": "code",
   "execution_count": 4,
   "id": "07d83187",
   "metadata": {},
   "outputs": [],
   "source": [
    "import time\n",
    "import threading\n",
    "from tqdm import tqdm\n",
    "from queue import Queue\n",
    "\n",
    "def countdown_timer(duration, stop_event, message_queue):\n",
    "    \"\"\"Runs a timer with tqdm and stops if the user answers.\"\"\"\n",
    "    for remaining_time in tqdm(range(duration, 0, -1), desc=\"⏳ Time Left\", unit=\" sec\", ncols=75):\n",
    "        time.sleep(1)\n",
    "        if stop_event.is_set():  # Stop countdown if input is received\n",
    "            break\n",
    "    if not stop_event.is_set():\n",
    "        message_queue.put(\"TIME_UP\")  # Send timeout message\n",
    "\n",
    "def handle_question(question, data):\n",
    "    \"\"\"Handles the quiz question, enforcing the 30-second limit.\"\"\"\n",
    "    print(f\"\\n{question}\")\n",
    "    for option in data[\"options\"]:\n",
    "        print(option)\n",
    "\n",
    "    stop_event = threading.Event()\n",
    "    message_queue = Queue()\n",
    "    timer_thread = threading.Thread(target=countdown_timer, args=(30, stop_event, message_queue))\n",
    "    timer_thread.start()\n",
    "\n",
    "    user_answer = None\n",
    "    while timer_thread.is_alive():\n",
    "        user_answer = input(\"\\nYour answer (A, B, C, or D): \").upper()\n",
    "        if user_answer in [\"A\", \"B\", \"C\", \"D\"]:\n",
    "            stop_event.set()\n",
    "            message_queue.put(user_answer)\n",
    "            break\n",
    "        else:\n",
    "            print(\"Invalid input. Please enter A, B, C, or D.\")\n",
    "\n",
    "    timer_thread.join()  # Wait for countdown to complete\n",
    "\n",
    "    if not message_queue.empty():\n",
    "        result = message_queue.get()\n",
    "        if result == \"TIME_UP\":\n",
    "            print(\"\\n🚨 Time's up for this question! Moving to the next question.\")\n",
    "            return 0  # No score for timeout\n",
    "        elif result == data[\"answer\"]:\n",
    "            print(\"✅ Correct!\")\n",
    "            return 1  # Return score increment\n",
    "        else:\n",
    "            print(f\"❌ Wrong! The correct answer is {data['answer']}.\")\n",
    "            return 0  # Return no increment\n",
    "\n",
    "    return 0\n",
    "\n",
    "def timed_quiz(questions):\n",
    "    \"\"\"Manages the overall quiz process and ensures questions don't repeat.\"\"\"\n",
    "    print(\"\\nWelcome to the Timed Python Quiz! You have 20 minutes (1200 seconds) for all questions.\\n\")\n",
    "\n",
    "    score = 0\n",
    "    total = len(questions)\n",
    "\n",
    "    quiz_start_time = time.time()\n",
    "    quiz_end_time = quiz_start_time + 1200  # Set the quiz duration to 20 minutes\n",
    "\n",
    "    for question_num, (question, data) in enumerate(questions.items(), start=1):\n",
    "        # Check if the total quiz time is exceeded\n",
    "        if time.time() >= quiz_end_time:\n",
    "            print(\"\\n⏳ Time's up! The quiz has ended.\")\n",
    "            break  # Exit quiz loop\n",
    "\n",
    "        print(f\"\\nQuestion {question_num}:\")\n",
    "        score += handle_question(question, data)\n",
    "\n",
    "    print(f\"\\n🎉 Final score: {score}/{total}.\")  # Display final score\n",
    "\n",
    "    # Exit the program correctly\n",
    "    return score, total\n",
    "\n",
    "# Example questions\n",
    "#questions = {\n",
    " #   \"What is the capital of France?\": {\"options\": [\"A) London\", \"B) Paris\", \"C) Berlin\", \"D) Madrid\"], \"answer\": \"B\"},\n",
    "  #  \"Which planet is known as the Red Planet?\": {\"options\": [\"A) Venus\", \"B) Saturn\", \"C) Mars\", \"D) Jupiter\"], \"answer\": \"C\"}\n",
    "#}\n",
    "\n",
    "#timed_quiz(questions)\n",
    "\n",
    "\n"
   ]
  },
  {
   "cell_type": "code",
   "execution_count": 5,
   "id": "94d385f5",
   "metadata": {},
   "outputs": [],
   "source": [
    "# Save the quiz results to a file function\n",
    "def save_results(name, email, score, total): # function to save results to a file\n",
    "    with open(\"quiz_results.txt\", \"a\") as file: # open file in append mode\n",
    "        file.write(f\"{name} {email}: {score}/{total}\\n\") # write results to file\n",
    "    print(\"Results saved to quiz_results.txt\") # display message to user"
   ]
  },
  {
   "cell_type": "code",
   "execution_count": 6,
   "id": "dba9fc76",
   "metadata": {},
   "outputs": [],
   "source": [
    "from __future__ import print_function\n",
    "import os.path\n",
    "import base64\n",
    "from googleapiclient.discovery import build\n",
    "from google.oauth2.credentials import Credentials\n",
    "from google_auth_oauthlib.flow import InstalledAppFlow\n",
    "from google.auth.transport.requests import Request\n",
    "from email.mime.text import MIMEText\n",
    "\n",
    "# Define the scopes\n",
    "SCOPES = ['https://www.googleapis.com/auth/gmail.send'] # Gmail API scope for sending emails\n",
    "\n",
    "def authenticate_gmail(): # Authenticate and authorize the Gmail API\n",
    "    \"\"\"Authenticates and generates credentials for Gmail API access.\"\"\"\n",
    "    creds = None # Initialize credentials to None\n",
    "    if os.path.exists(\"token.json\"): # Check if token.json file exists\n",
    "        creds = Credentials.from_authorized_user_file(\"token.json\", SCOPES) # Load credentials from file\n",
    "    if not creds or not creds.valid: # Check if credentials are valid\n",
    "        if creds and creds.expired and creds.refresh_token: # Check if credentials are expired and refresh token is available\n",
    "            creds.refresh(Request())\n",
    "        else:   # If no valid credentials, prompt user to log in\n",
    "            flow = InstalledAppFlow.from_client_secrets_file(\"credentials.json\", SCOPES) # Load client secrets from file\n",
    "            creds = flow.run_local_server(port=0) # Run local server for authentication\n",
    "        with open(\"token.json\", \"w\") as token:  # Save the credentials to token.json\n",
    "            token.write(creds.to_json()) # Write credentials to file\n",
    "    return creds # Return the credentials\n",
    "\n",
    "def send_email(email, subject, body, score, total):     # function to send email using Gmail API\n",
    "    \"\"\"Sends an email using Gmail API.\"\"\"\n",
    "    creds = authenticate_gmail() # Authenticate and get credentials\n",
    "    service = build(\"gmail\", \"v1\", credentials=creds) # Build the Gmail API service\n",
    "\n",
    "    # Create the email message\n",
    "    message = MIMEText(body)\n",
    "    message[\"to\"] = email\n",
    "    message[\"subject\"] = subject\n",
    "\n",
    "    # Encode the message\n",
    "    raw_message = base64.urlsafe_b64encode(message.as_bytes()).decode(\"utf-8\") # Encode the message to base64\n",
    "    send_message = {\"raw\": raw_message} # Create the message object\n",
    "\n",
    "    try:\n",
    "        # Send the email\n",
    "        service.users().messages().send(userId=\"me\", body=send_message).execute() # Send the email using Gmail API\n",
    "        print(f\"Email sent successfully to {email}.\") # Display success message\n",
    "    except Exception as e:\n",
    "        print(f\"Failed to send email: {e}\") # Display error message\n",
    "\n",
    "# Example Usage\n",
    "#send_email(\"recipient@example.com\",\"Quiz Results\",\"Hello, here are your quiz results:\\nScore: 8/10\\n\\nBest regards,\\nQuiz App\")"
   ]
  },
  {
   "cell_type": "code",
   "execution_count": 7,
   "id": "f00bfc2d",
   "metadata": {},
   "outputs": [],
   "source": [
    "# Create the function for the main program\n",
    "def main():\n",
    "    name = input(\"Please enter your name: \") # prompt user for name\n",
    "    role= input(\"Are you a student or an admin? (s/a): \").lower() # prompt user for role\n",
    "    email = input(\"Please enter your email: \") # prompt user for email\n",
    "    if role == 's':\n",
    "        print(f\"Hello, {name}!\")\n",
    "        print(\"You have 2 minutes for each question.\") # display time limit for quiz\n",
    "        print(\"Let's start the quiz!\") # display message to user\n",
    "        \n",
    "    # check if user is admin\n",
    "    elif role == 'a' and email in [\"admin@email.com\"]:\n",
    "        print(f\"Hello, Admin {name}!\")\n",
    "        # add custom questions\n",
    "        print(\"You can add custom questions to the quiz.\")\n",
    "        add_custom_questions() # call the function to add custom questions\n",
    "        print(\"You can remove custom questions from the quiz.\")\n",
    "        remove_custom_questions() # call the function to remove custom questions\n",
    "        print(\"You can view the new quiz questions now.\")\n",
    "        \n",
    "    else:\n",
    "        print(\"Invalid role. Please enter 's' for student or 'a' for admin.\")\n",
    "        return\n",
    "\n",
    "\n",
    "    # Start the quiz\n",
    "    score, total = timed_quiz(quick_questions) # call the quiz function\n",
    "\n",
    "    # Share results via email\n",
    "    subject = \"Quiz Results\"  # Define the subject for the email\n",
    "    body = f\"Hello {name},\\n\\nHere are your quiz results:\\nScore: {score}/{total}\\n\\nBest regards,\\nQuiz App\"  # Define the body for the email\n",
    "    send_email(email, subject, body, score, total) # call the function to share results via email\n",
    "\n",
    "    # Save results\n",
    "    save_results(name, email, score, total) # call the function to save results\n",
    "    "
   ]
  },
  {
   "cell_type": "code",
   "execution_count": 9,
   "id": "af7750e0",
   "metadata": {},
   "outputs": [
    {
     "name": "stdout",
     "output_type": "stream",
     "text": [
      "Hello, art!\n",
      "You have 2 minutes for each question.\n",
      "Let's start the quiz!\n",
      "\n",
      "Welcome to the Timed Python Quiz! You have 20 minutes (1200 seconds) for all questions.\n",
      "\n",
      "\n",
      "Question 1:\n",
      "\n",
      "What is the correct file extension for python files?\n",
      "A. .pt\n",
      "B. .py\n",
      "C. .pyt\n",
      "D. .pyn\n"
     ]
    },
    {
     "name": "stderr",
     "output_type": "stream",
     "text": [
      "⏳ Time Left:  13%|███                    | 4/30 [00:05<00:32,  1.25s/ sec]\n"
     ]
    },
    {
     "name": "stdout",
     "output_type": "stream",
     "text": [
      "✅ Correct!\n",
      "\n",
      "Question 2:\n",
      "\n",
      "What is the correct syntax to output 'Hello World' in Python?\n",
      "A. print('Hello World')\n",
      "B. echo('Hello World')\n",
      "C. print('Hello World')\n",
      "D. echo('Hello World')\n"
     ]
    },
    {
     "name": "stderr",
     "output_type": "stream",
     "text": [
      "⏳ Time Left:   3%|▊                      | 1/30 [00:02<00:58,  2.00s/ sec]\n"
     ]
    },
    {
     "name": "stdout",
     "output_type": "stream",
     "text": [
      "✅ Correct!\n",
      "\n",
      "Question 3:\n",
      "\n",
      "How do you create a variable with the numeric value 5?\n",
      "A. x = 5\n",
      "B. x = int(5)\n",
      "C. x = '5'\n",
      "D. x = 5.0\n"
     ]
    },
    {
     "name": "stderr",
     "output_type": "stream",
     "text": [
      "⏳ Time Left:   3%|▊                      | 1/30 [00:02<00:58,  2.00s/ sec]\n"
     ]
    },
    {
     "name": "stdout",
     "output_type": "stream",
     "text": [
      "✅ Correct!\n",
      "\n",
      "Question 4:\n",
      "\n",
      "What is the correct way to create a function in Python?\n",
      "A. def myFunction():\n",
      "B. function myFunction():\n",
      "C. create myFunction():\n",
      "D. func myFunction():\n"
     ]
    },
    {
     "name": "stderr",
     "output_type": "stream",
     "text": [
      "⏳ Time Left:   3%|▊                      | 1/30 [00:02<00:58,  2.01s/ sec]\n"
     ]
    },
    {
     "name": "stdout",
     "output_type": "stream",
     "text": [
      "✅ Correct!\n",
      "\n",
      "Question 5:\n",
      "\n",
      "How do you call a function named 'myFunction'?\n",
      "A. myFunction()\n",
      "B. call myFunction()\n",
      "C. call myFunction\n",
      "D. myFunction\n"
     ]
    },
    {
     "name": "stderr",
     "output_type": "stream",
     "text": [
      "⏳ Time Left:   3%|▊                      | 1/30 [00:02<00:58,  2.00s/ sec]\n"
     ]
    },
    {
     "name": "stdout",
     "output_type": "stream",
     "text": [
      "✅ Correct!\n",
      "\n",
      "Question 6:\n",
      "\n",
      "How do you write an 'if' statement in Python?\n",
      "A. if x > y:\n",
      "B. if x > y then:\n",
      "C. if (x > y)\n",
      "D. if x > y then\n"
     ]
    },
    {
     "name": "stderr",
     "output_type": "stream",
     "text": [
      "⏳ Time Left:   3%|▊                      | 1/30 [00:02<00:58,  2.00s/ sec]\n"
     ]
    },
    {
     "name": "stdout",
     "output_type": "stream",
     "text": [
      "✅ Correct!\n",
      "\n",
      "Question 7:\n",
      "\n",
      "How do you create a list in Python?\n",
      "A. myList = []\n",
      "B. myList = ()\n",
      "C. myList = {}\n",
      "D. myList = list()\n"
     ]
    },
    {
     "name": "stderr",
     "output_type": "stream",
     "text": [
      "⏳ Time Left:   3%|▊                      | 1/30 [00:02<00:58,  2.00s/ sec]\n"
     ]
    },
    {
     "name": "stdout",
     "output_type": "stream",
     "text": [
      "✅ Correct!\n",
      "\n",
      "Question 8:\n",
      "\n",
      "How do you create a dictionary in Python?\n",
      "A. myDict = {}\n",
      "B. myDict = []\n",
      "C. myDict = ()\n",
      "D. myDict = dict()\n"
     ]
    },
    {
     "name": "stderr",
     "output_type": "stream",
     "text": [
      "⏳ Time Left:   3%|▊                      | 1/30 [00:02<00:58,  2.00s/ sec]\n"
     ]
    },
    {
     "name": "stdout",
     "output_type": "stream",
     "text": [
      "✅ Correct!\n",
      "\n",
      "Question 9:\n",
      "\n",
      "How do you create a tuple in Python?\n",
      "A. myTuple = ()\n",
      "B. myTuple = []\n",
      "C. myTuple = {}\n",
      "D. myTuple = dict()\n"
     ]
    },
    {
     "name": "stderr",
     "output_type": "stream",
     "text": [
      "⏳ Time Left:  17%|███▊                   | 5/30 [00:06<00:30,  1.20s/ sec]\n"
     ]
    },
    {
     "name": "stdout",
     "output_type": "stream",
     "text": [
      "✅ Correct!\n",
      "\n",
      "Question 10:\n",
      "\n",
      "How do you create a set in Python?\n",
      "A. mySet = set()\n",
      "B. mySet = []\n",
      "C. mySet = {}\n",
      "D. mySet = ()\n"
     ]
    },
    {
     "name": "stderr",
     "output_type": "stream",
     "text": [
      "⏳ Time Left:  10%|██▎                    | 3/30 [00:04<00:36,  1.34s/ sec]\n"
     ]
    },
    {
     "name": "stdout",
     "output_type": "stream",
     "text": [
      "✅ Correct!\n",
      "\n",
      "Question 11:\n",
      "\n",
      "How do you create a while loop in Python?\n",
      "A. while x < 5:\n",
      "B. while (x < 5)\n",
      "C. while x < 5 then:\n",
      "D. while (x < 5) then\n"
     ]
    },
    {
     "name": "stderr",
     "output_type": "stream",
     "text": [
      "⏳ Time Left:   7%|█▌                     | 2/30 [00:03<00:42,  1.50s/ sec]\n"
     ]
    },
    {
     "name": "stdout",
     "output_type": "stream",
     "text": [
      "✅ Correct!\n",
      "\n",
      "Question 12:\n",
      "\n",
      "How do you create a for loop in Python?\n",
      "A. for x in range(5):\n",
      "B. for (x in range(5)):\n",
      "C. for x in range(5) then:\n",
      "D. for (x in range(5)) then\n"
     ]
    },
    {
     "name": "stderr",
     "output_type": "stream",
     "text": [
      "⏳ Time Left:   3%|▊                      | 1/30 [00:02<00:58,  2.00s/ sec]\n"
     ]
    },
    {
     "name": "stdout",
     "output_type": "stream",
     "text": [
      "✅ Correct!\n",
      "\n",
      "Question 13:\n",
      "\n",
      "How do you handle exceptions in Python?\n",
      "A. try:\n",
      "B. catch:\n",
      "C. except:\n",
      "D. handle:\n"
     ]
    },
    {
     "name": "stderr",
     "output_type": "stream",
     "text": [
      "⏳ Time Left:  20%|████▌                  | 6/30 [00:07<00:28,  1.17s/ sec]\n"
     ]
    },
    {
     "name": "stdout",
     "output_type": "stream",
     "text": [
      "✅ Correct!\n",
      "\n",
      "Question 14:\n",
      "\n",
      "How do you import a module in Python?\n",
      "A. import module\n",
      "B. include module\n",
      "C. require module\n",
      "D. use module\n"
     ]
    },
    {
     "name": "stderr",
     "output_type": "stream",
     "text": [
      "⏳ Time Left:   7%|█▌                     | 2/30 [00:03<00:42,  1.50s/ sec]\n"
     ]
    },
    {
     "name": "stdout",
     "output_type": "stream",
     "text": [
      "✅ Correct!\n",
      "\n",
      "Question 15:\n",
      "\n",
      "How do you read a file in Python?\n",
      "A. with open('file.txt', 'r') as f:\n",
      "B. open('file.txt', 'r')\n",
      "C. read('file.txt', 'r')\n",
      "D. file('file.txt', 'r')\n"
     ]
    },
    {
     "name": "stderr",
     "output_type": "stream",
     "text": [
      "⏳ Time Left:  10%|██▎                    | 3/30 [00:04<00:36,  1.34s/ sec]\n"
     ]
    },
    {
     "name": "stdout",
     "output_type": "stream",
     "text": [
      "✅ Correct!\n",
      "\n",
      "Question 16:\n",
      "\n",
      "How do you write to a file in Python?\n",
      "A. with open('file.txt', 'w') as f:\n",
      "B. open('file.txt', 'w')\n",
      "C. write('file.txt', 'w')\n",
      "D. file('file.txt', 'w')\n"
     ]
    },
    {
     "name": "stderr",
     "output_type": "stream",
     "text": [
      "⏳ Time Left:   3%|▊                      | 1/30 [00:02<00:58,  2.00s/ sec]\n"
     ]
    },
    {
     "name": "stdout",
     "output_type": "stream",
     "text": [
      "✅ Correct!\n",
      "\n",
      "Question 17:\n",
      "\n",
      "How do you close a file in Python?\n",
      "A. f.close()\n",
      "B. close(f)\n",
      "C. f.end()\n",
      "D. end(f)\n"
     ]
    },
    {
     "name": "stderr",
     "output_type": "stream",
     "text": [
      "⏳ Time Left:  10%|██▎                    | 3/30 [00:04<00:36,  1.34s/ sec]\n"
     ]
    },
    {
     "name": "stdout",
     "output_type": "stream",
     "text": [
      "✅ Correct!\n",
      "\n",
      "Question 18:\n",
      "\n",
      "How do you delete a file in Python?\n",
      "A. import os; os.remove('file.txt')\n",
      "B. delete('file.txt')\n",
      "C. remove('file.txt')\n",
      "D. os.delete('file.txt')\n"
     ]
    },
    {
     "name": "stderr",
     "output_type": "stream",
     "text": [
      "⏳ Time Left:  10%|██▎                    | 3/30 [00:04<00:36,  1.34s/ sec]\n"
     ]
    },
    {
     "name": "stdout",
     "output_type": "stream",
     "text": [
      "✅ Correct!\n",
      "\n",
      "Question 19:\n",
      "\n",
      "How do you check if a file exists in Python?\n",
      "A. import os; os.path.exists('file.txt')\n",
      "B. exists('file.txt')\n",
      "C. os.exists('file.txt')\n",
      "D. file.exists('file.txt')\n"
     ]
    },
    {
     "name": "stderr",
     "output_type": "stream",
     "text": [
      "⏳ Time Left:   7%|█▌                     | 2/30 [00:03<00:42,  1.50s/ sec]\n"
     ]
    },
    {
     "name": "stdout",
     "output_type": "stream",
     "text": [
      "✅ Correct!\n",
      "\n",
      "Question 20:\n",
      "\n",
      "How do you get the current working directory in Python?\n",
      "A. import os; os.getcwd()\n",
      "B. getcwd()\n",
      "C. os.current()\n",
      "D. current()\n"
     ]
    },
    {
     "name": "stderr",
     "output_type": "stream",
     "text": [
      "⏳ Time Left:   7%|█▌                     | 2/30 [00:03<00:42,  1.50s/ sec]\n"
     ]
    },
    {
     "name": "stdout",
     "output_type": "stream",
     "text": [
      "✅ Correct!\n",
      "\n",
      "🎉 Final score: 20/20.\n",
      "Email sent successfully to recipient@example.com.\n",
      "Results saved to quiz_results.txt\n"
     ]
    }
   ],
   "source": [
    "main() # call the main function to start the program"
   ]
  }
 ],
 "metadata": {
  "kernelspec": {
   "display_name": "Python 3",
   "language": "python",
   "name": "python3"
  },
  "language_info": {
   "codemirror_mode": {
    "name": "ipython",
    "version": 3
   },
   "file_extension": ".py",
   "mimetype": "text/x-python",
   "name": "python",
   "nbconvert_exporter": "python",
   "pygments_lexer": "ipython3",
   "version": "3.12.9"
  }
 },
 "nbformat": 4,
 "nbformat_minor": 5
}
